{
  "nbformat": 4,
  "nbformat_minor": 0,
  "metadata": {
    "colab": {
      "provenance": [],
      "authorship_tag": "ABX9TyNM4+HvFWK/Bth4IeX3NRaL",
      "include_colab_link": true
    },
    "kernelspec": {
      "name": "python3",
      "display_name": "Python 3"
    },
    "language_info": {
      "name": "python"
    }
  },
  "cells": [
    {
      "cell_type": "markdown",
      "metadata": {
        "id": "view-in-github",
        "colab_type": "text"
      },
      "source": [
        "<a href=\"https://colab.research.google.com/github/solishiguera/M2-E1/blob/main/Evidencia1.ipynb\" target=\"_parent\"><img src=\"https://colab.research.google.com/assets/colab-badge.svg\" alt=\"Open In Colab\"/></a>"
      ]
    },
    {
      "cell_type": "markdown",
      "source": [
        "# Evidencia 1\n",
        "## Modelo\n",
        "Durante esta práctica, se desarrollará un modelo de regresión lineal de primer orden."
      ],
      "metadata": {
        "id": "AFmlakxcTkQd"
      }
    },
    {
      "cell_type": "code",
      "execution_count": 1,
      "metadata": {
        "colab": {
          "base_uri": "https://localhost:8080/"
        },
        "id": "-EyMo-pvTRVR",
        "outputId": "fba6b1d2-efb8-4bc6-ab0e-4ac0c4097afc"
      },
      "outputs": [
        {
          "output_type": "stream",
          "name": "stdout",
          "text": [
            "Mounted at /content/gdrive\n",
            "/content\n"
          ]
        }
      ],
      "source": [
        "from google.colab import drive\n",
        "drive.mount(\"/content/gdrive\")  \n",
        "!pwd"
      ]
    },
    {
      "cell_type": "code",
      "source": [
        "%cd \"/content/gdrive/MyDrive/Colab Notebooks/SEMESTRE_7/Modulo2/Evidencia1\"\n",
        "!ls"
      ],
      "metadata": {
        "colab": {
          "base_uri": "https://localhost:8080/"
        },
        "id": "SuqH7OrbUd92",
        "outputId": "b39edaac-194e-4c99-ca56-87ccd61de1b7"
      },
      "execution_count": 2,
      "outputs": [
        {
          "output_type": "stream",
          "name": "stdout",
          "text": [
            "/content/gdrive/MyDrive/Colab Notebooks/SEMESTRE_7/Modulo2/Evidencia1\n",
            "'Copy of Ses03_Practice.ipynb'\t starbucks-menu-nutrition-drinks.csv\n",
            " Evidencia1.ipynb\n"
          ]
        }
      ]
    },
    {
      "cell_type": "code",
      "source": [
        "import seaborn as sns\n",
        "import matplotlib.pyplot as plt\n",
        "from matplotlib.gridspec import GridSpec\n",
        "import warnings\n",
        "warnings.filterwarnings(\"ignore\")\n",
        "import pandas as pd"
      ],
      "metadata": {
        "id": "Fm5v7u0MUgfO"
      },
      "execution_count": 4,
      "outputs": []
    },
    {
      "cell_type": "markdown",
      "source": [
        "## Dataset\n",
        "Para esta evidencia, utilizaré el data set de los valores nutricionales de las bebidas de starbucks. [Data set en Kaggle](https://www.kaggle.com/datasets/starbucks/starbucks-menu)"
      ],
      "metadata": {
        "id": "9cGEm_uNYkeq"
      }
    },
    {
      "cell_type": "markdown",
      "source": [
        "### Preparación y limpieza de datos"
      ],
      "metadata": {
        "id": "_9CExFOUY7W_"
      }
    },
    {
      "cell_type": "code",
      "source": [
        "df = pd.read_csv('starbucks-menu-nutrition-drinks.csv')\n",
        "df.head()"
      ],
      "metadata": {
        "colab": {
          "base_uri": "https://localhost:8080/",
          "height": 204
        },
        "id": "9hlUp0q8U1kY",
        "outputId": "1af8bfd5-87a4-4802-ed43-46c3f712847c"
      },
      "execution_count": 5,
      "outputs": [
        {
          "output_type": "execute_result",
          "data": {
            "text/plain": [
              "                                          Unnamed: 0 Calories Fat (g)  \\\n",
              "0           Cool Lime Starbucks Refreshers™ Beverage       45       0   \n",
              "1                                   Ombré Pink Drink        -       -   \n",
              "2                                         Pink Drink        -       -   \n",
              "3     Strawberry Acai Starbucks Refreshers™ Beverage       80       0   \n",
              "4  Very Berry Hibiscus Starbucks Refreshers™ Beve...       60       0   \n",
              "\n",
              "  Carb. (g) Fiber (g) Protein Sodium  \n",
              "0        11         0       0     10  \n",
              "1         -         -       -      -  \n",
              "2         -         -       -      -  \n",
              "3        18         1       0     10  \n",
              "4        14         1       0     10  "
            ],
            "text/html": [
              "\n",
              "  <div id=\"df-2144c4d8-3a6c-4d50-b087-2c54586ad8ab\">\n",
              "    <div class=\"colab-df-container\">\n",
              "      <div>\n",
              "<style scoped>\n",
              "    .dataframe tbody tr th:only-of-type {\n",
              "        vertical-align: middle;\n",
              "    }\n",
              "\n",
              "    .dataframe tbody tr th {\n",
              "        vertical-align: top;\n",
              "    }\n",
              "\n",
              "    .dataframe thead th {\n",
              "        text-align: right;\n",
              "    }\n",
              "</style>\n",
              "<table border=\"1\" class=\"dataframe\">\n",
              "  <thead>\n",
              "    <tr style=\"text-align: right;\">\n",
              "      <th></th>\n",
              "      <th>Unnamed: 0</th>\n",
              "      <th>Calories</th>\n",
              "      <th>Fat (g)</th>\n",
              "      <th>Carb. (g)</th>\n",
              "      <th>Fiber (g)</th>\n",
              "      <th>Protein</th>\n",
              "      <th>Sodium</th>\n",
              "    </tr>\n",
              "  </thead>\n",
              "  <tbody>\n",
              "    <tr>\n",
              "      <th>0</th>\n",
              "      <td>Cool Lime Starbucks Refreshers™ Beverage</td>\n",
              "      <td>45</td>\n",
              "      <td>0</td>\n",
              "      <td>11</td>\n",
              "      <td>0</td>\n",
              "      <td>0</td>\n",
              "      <td>10</td>\n",
              "    </tr>\n",
              "    <tr>\n",
              "      <th>1</th>\n",
              "      <td>Ombré Pink Drink</td>\n",
              "      <td>-</td>\n",
              "      <td>-</td>\n",
              "      <td>-</td>\n",
              "      <td>-</td>\n",
              "      <td>-</td>\n",
              "      <td>-</td>\n",
              "    </tr>\n",
              "    <tr>\n",
              "      <th>2</th>\n",
              "      <td>Pink Drink</td>\n",
              "      <td>-</td>\n",
              "      <td>-</td>\n",
              "      <td>-</td>\n",
              "      <td>-</td>\n",
              "      <td>-</td>\n",
              "      <td>-</td>\n",
              "    </tr>\n",
              "    <tr>\n",
              "      <th>3</th>\n",
              "      <td>Strawberry Acai Starbucks Refreshers™ Beverage</td>\n",
              "      <td>80</td>\n",
              "      <td>0</td>\n",
              "      <td>18</td>\n",
              "      <td>1</td>\n",
              "      <td>0</td>\n",
              "      <td>10</td>\n",
              "    </tr>\n",
              "    <tr>\n",
              "      <th>4</th>\n",
              "      <td>Very Berry Hibiscus Starbucks Refreshers™ Beve...</td>\n",
              "      <td>60</td>\n",
              "      <td>0</td>\n",
              "      <td>14</td>\n",
              "      <td>1</td>\n",
              "      <td>0</td>\n",
              "      <td>10</td>\n",
              "    </tr>\n",
              "  </tbody>\n",
              "</table>\n",
              "</div>\n",
              "      <button class=\"colab-df-convert\" onclick=\"convertToInteractive('df-2144c4d8-3a6c-4d50-b087-2c54586ad8ab')\"\n",
              "              title=\"Convert this dataframe to an interactive table.\"\n",
              "              style=\"display:none;\">\n",
              "        \n",
              "  <svg xmlns=\"http://www.w3.org/2000/svg\" height=\"24px\"viewBox=\"0 0 24 24\"\n",
              "       width=\"24px\">\n",
              "    <path d=\"M0 0h24v24H0V0z\" fill=\"none\"/>\n",
              "    <path d=\"M18.56 5.44l.94 2.06.94-2.06 2.06-.94-2.06-.94-.94-2.06-.94 2.06-2.06.94zm-11 1L8.5 8.5l.94-2.06 2.06-.94-2.06-.94L8.5 2.5l-.94 2.06-2.06.94zm10 10l.94 2.06.94-2.06 2.06-.94-2.06-.94-.94-2.06-.94 2.06-2.06.94z\"/><path d=\"M17.41 7.96l-1.37-1.37c-.4-.4-.92-.59-1.43-.59-.52 0-1.04.2-1.43.59L10.3 9.45l-7.72 7.72c-.78.78-.78 2.05 0 2.83L4 21.41c.39.39.9.59 1.41.59.51 0 1.02-.2 1.41-.59l7.78-7.78 2.81-2.81c.8-.78.8-2.07 0-2.86zM5.41 20L4 18.59l7.72-7.72 1.47 1.35L5.41 20z\"/>\n",
              "  </svg>\n",
              "      </button>\n",
              "      \n",
              "  <style>\n",
              "    .colab-df-container {\n",
              "      display:flex;\n",
              "      flex-wrap:wrap;\n",
              "      gap: 12px;\n",
              "    }\n",
              "\n",
              "    .colab-df-convert {\n",
              "      background-color: #E8F0FE;\n",
              "      border: none;\n",
              "      border-radius: 50%;\n",
              "      cursor: pointer;\n",
              "      display: none;\n",
              "      fill: #1967D2;\n",
              "      height: 32px;\n",
              "      padding: 0 0 0 0;\n",
              "      width: 32px;\n",
              "    }\n",
              "\n",
              "    .colab-df-convert:hover {\n",
              "      background-color: #E2EBFA;\n",
              "      box-shadow: 0px 1px 2px rgba(60, 64, 67, 0.3), 0px 1px 3px 1px rgba(60, 64, 67, 0.15);\n",
              "      fill: #174EA6;\n",
              "    }\n",
              "\n",
              "    [theme=dark] .colab-df-convert {\n",
              "      background-color: #3B4455;\n",
              "      fill: #D2E3FC;\n",
              "    }\n",
              "\n",
              "    [theme=dark] .colab-df-convert:hover {\n",
              "      background-color: #434B5C;\n",
              "      box-shadow: 0px 1px 3px 1px rgba(0, 0, 0, 0.15);\n",
              "      filter: drop-shadow(0px 1px 2px rgba(0, 0, 0, 0.3));\n",
              "      fill: #FFFFFF;\n",
              "    }\n",
              "  </style>\n",
              "\n",
              "      <script>\n",
              "        const buttonEl =\n",
              "          document.querySelector('#df-2144c4d8-3a6c-4d50-b087-2c54586ad8ab button.colab-df-convert');\n",
              "        buttonEl.style.display =\n",
              "          google.colab.kernel.accessAllowed ? 'block' : 'none';\n",
              "\n",
              "        async function convertToInteractive(key) {\n",
              "          const element = document.querySelector('#df-2144c4d8-3a6c-4d50-b087-2c54586ad8ab');\n",
              "          const dataTable =\n",
              "            await google.colab.kernel.invokeFunction('convertToInteractive',\n",
              "                                                     [key], {});\n",
              "          if (!dataTable) return;\n",
              "\n",
              "          const docLinkHtml = 'Like what you see? Visit the ' +\n",
              "            '<a target=\"_blank\" href=https://colab.research.google.com/notebooks/data_table.ipynb>data table notebook</a>'\n",
              "            + ' to learn more about interactive tables.';\n",
              "          element.innerHTML = '';\n",
              "          dataTable['output_type'] = 'display_data';\n",
              "          await google.colab.output.renderOutput(dataTable, element);\n",
              "          const docLink = document.createElement('div');\n",
              "          docLink.innerHTML = docLinkHtml;\n",
              "          element.appendChild(docLink);\n",
              "        }\n",
              "      </script>\n",
              "    </div>\n",
              "  </div>\n",
              "  "
            ]
          },
          "metadata": {},
          "execution_count": 5
        }
      ]
    },
    {
      "cell_type": "markdown",
      "source": [
        "Se eliminan filas que contengan valores de tipo '-'"
      ],
      "metadata": {
        "id": "dFug_b8PWqX0"
      }
    },
    {
      "cell_type": "code",
      "source": [
        "df = df[df['Calories'] != '-']\n",
        "df = df[df['Calories'] != '0']"
      ],
      "metadata": {
        "id": "CU8faHWFVSX7"
      },
      "execution_count": 30,
      "outputs": []
    },
    {
      "cell_type": "code",
      "source": [
        "cols = ['Calories',\t'Fat (g)',\t'Carb. (g)',\t'Fiber (g)',\t'Protein',\t'Sodium']\n",
        "for i in cols :\n",
        "  df[i] = df[i].astype(float)"
      ],
      "metadata": {
        "id": "WqxerMihXUY2"
      },
      "execution_count": 32,
      "outputs": []
    },
    {
      "cell_type": "markdown",
      "source": [
        "### Base de datos lista"
      ],
      "metadata": {
        "id": "McSkB6ZGZAfk"
      }
    },
    {
      "cell_type": "code",
      "source": [
        "# df.dtypes"
      ],
      "metadata": {
        "colab": {
          "base_uri": "https://localhost:8080/"
        },
        "id": "pmGWQNeZXGte",
        "outputId": "5735f9b7-77f9-4a77-fe2a-e05de6d894de"
      },
      "execution_count": 33,
      "outputs": [
        {
          "output_type": "execute_result",
          "data": {
            "text/plain": [
              "Unnamed: 0     object\n",
              "Calories      float64\n",
              "Fat (g)       float64\n",
              "Carb. (g)     float64\n",
              "Fiber (g)     float64\n",
              "Protein       float64\n",
              "Sodium        float64\n",
              "dtype: object"
            ]
          },
          "metadata": {},
          "execution_count": 33
        }
      ]
    },
    {
      "cell_type": "code",
      "source": [
        "# df.shape"
      ],
      "metadata": {
        "colab": {
          "base_uri": "https://localhost:8080/"
        },
        "id": "uNhopNSrZQAa",
        "outputId": "e626e221-4a78-4341-d709-0415f9826f80"
      },
      "execution_count": 36,
      "outputs": [
        {
          "output_type": "execute_result",
          "data": {
            "text/plain": [
              "(90, 7)"
            ]
          },
          "metadata": {},
          "execution_count": 36
        }
      ]
    },
    {
      "cell_type": "markdown",
      "source": [
        "## Implementación de modelo"
      ],
      "metadata": {
        "id": "9DOkBHa6ZDph"
      }
    },
    {
      "cell_type": "markdown",
      "source": [
        "#### División de datos\n",
        "Utilizaremos el 70% de nuestros datos para entrenamiento (63 filas) y 30% para validación (27 filas)"
      ],
      "metadata": {
        "id": "mu3Ml9uNZcpd"
      }
    },
    {
      "cell_type": "code",
      "source": [
        "calories = df['Calories'].copy()\n",
        "carbs = df['Carb. (g)'].copy()\n",
        "\n",
        "x_train = carbs[63:]\n",
        "y_train = calories[63:]\n",
        "\n",
        "x_validate = carbs[:63]\n",
        "y_validate = calories[:63]"
      ],
      "metadata": {
        "id": "l6n_CG4SYffr"
      },
      "execution_count": 142,
      "outputs": []
    },
    {
      "cell_type": "markdown",
      "source": [
        "### Definición de parámetros\n",
        "Primeramente, definimos una tasa de aprendizaje (alpha) de 0.00001 para nuestra Gradiente Descendente."
      ],
      "metadata": {
        "id": "OAS7qSXOz9F-"
      }
    },
    {
      "cell_type": "code",
      "source": [
        "alpha = 0.00001\n",
        "\n",
        "# Función de hipótesis\n",
        "h = lambda x,theta: theta[0]+theta[1]*x\n",
        "\n",
        "# Gradiente Descendente\n",
        "j_i = lambda x,y,theta: (y-h(x,theta))**2 \n",
        "\n",
        "n = len(y_train)"
      ],
      "metadata": {
        "id": "I5CqVMhMZaWd"
      },
      "execution_count": 82,
      "outputs": []
    },
    {
      "cell_type": "markdown",
      "source": [
        "### Iteraciones del modelo\n",
        "Iniciamos corriendo nuestro modelo 1,000 iteraciones, y este encontrará los valores de theta 0 y theta 1 que mejor se ajusten a los datos."
      ],
      "metadata": {
        "id": "6nMDQlLX0Z7r"
      }
    },
    {
      "cell_type": "code",
      "source": [
        "theta = [1,1] # Cambiar dependiendo del orden del modelo (un theta para cada dimensión de nuestros datos + 1)\n",
        "\n",
        "for idx in range(10000):\n",
        "  acumDelta = []\n",
        "  acumDeltaX = []\n",
        "  for x_i, y_i in zip(x_train,y_train):\n",
        "\n",
        "    acumDelta.append(h(x_i,theta)-y_i)\n",
        "    acumDeltaX.append((h(x_i,theta)-y_i)*x_i)\n",
        "\n",
        "  sJt0 = sum(acumDelta)  \n",
        "  sJt1 = sum(acumDeltaX)\n",
        "  theta[0] = theta[0]-alpha/n*sJt0\n",
        "  theta[1] = theta[1]-alpha/n*sJt1\n"
      ],
      "metadata": {
        "id": "LJQ0H9s2cKuc"
      },
      "execution_count": 155,
      "outputs": []
    },
    {
      "cell_type": "markdown",
      "source": [
        "### Función de costo\n",
        "En el siguiente apartado, calculamos la función de costo para nuestros dos datasets: El dataset de entrenamiento y el de validación. Con este podemos determinar la manera en la que se ajusta nuestro modelo. Además, se despliegan ambas funciones de costo así como theta 0 y theta 1."
      ],
      "metadata": {
        "id": "qd3e3q2W07_Y"
      }
    },
    {
      "cell_type": "code",
      "source": [
        "n_train = len(y_train)\n",
        "n_validate = len(y_validate)\n",
        "\n",
        "# Validación\n",
        "acumDelta = []\n",
        "for x_i, y_i in zip(x_validate,y_validate):\n",
        "  acumDelta.append(j_i(x_i,y_i,theta))  \n",
        "\n",
        "sDelta = sum(acumDelta)  \n",
        "J_validate = 1/(2*n_validate)*sDelta\n",
        "\n",
        "\n",
        "# Training\n",
        "acumDelta = []\n",
        "for x_i, y_i in zip(x_train,y_train):\n",
        "  acumDelta.append(j_i(x_i,y_i,theta))  \n",
        "\n",
        "sDelta = sum(acumDelta)  \n",
        "J_train = 1/(2*n_train)*sDelta\n",
        "\n",
        "print('{} {:.2f}'.format('Función de costo para data set de validación: ', J_validate))\n",
        "print('{} {:.2f}'.format('Función de costo para data set de entrenamiento:', J_train))\n",
        "print('Theta 0: {:.2f} \\nTheta 1: {:.2f}'.format(theta[0], theta[1]))"
      ],
      "metadata": {
        "colab": {
          "base_uri": "https://localhost:8080/"
        },
        "id": "Uqnns3oYcLiW",
        "outputId": "ad585b39-7776-4c5e-8700-6a86beb2d084"
      },
      "execution_count": 154,
      "outputs": [
        {
          "output_type": "stream",
          "name": "stdout",
          "text": [
            "Función de costo para data set de validación:  1555.58\n",
            "Función de costo para data set de entrenamiento: 971.14\n",
            "Theta 0: 2.38 \n",
            "Theta 1: 6.22\n"
          ]
        }
      ]
    },
    {
      "cell_type": "markdown",
      "source": [
        "### Graficando resultados\n",
        "* Variables\n",
        "  * Variable dependiente (Y) : Calorías\n",
        "  * Variable independiente (X) : Carbohidratos\n",
        "En este apartado, graficamos nuestro modelo obtenido. \n",
        "* Como podemos observar, se calcula el valor estimado para nuestros dos datasets y se grafican.\n",
        "* Vemos como nuestro dataset de validación está de color naranja, y los valores que se predicen son de color azul.\n",
        "* Por otro lado, nuestro dataset de entrenamiento se muestra de color amarillo, mientras que los valores que se predicen son de color verde.\n",
        "* Por último, observamos una línea roja punteada que representa nuestro modelo de regresión lineal de 1er orden. \n"
      ],
      "metadata": {
        "id": "SRbDKl9m1UrY"
      }
    },
    {
      "cell_type": "code",
      "source": [
        "plot_train_x = x_train.values.tolist()\n",
        "plot_train_y = y_train.values.tolist()\n",
        "\n",
        "plot_validate_x = x_validate.values.tolist()\n",
        "plot_validate_y = y_validate.values.tolist()\n",
        "\n",
        "plot_test_y = []\n",
        "plot_test_y_2 = []\n",
        "\n",
        "for i in plot_validate_x:\n",
        "  plot_test_y.append(theta[1] * i + theta[0])\n",
        "\n",
        "for j in plot_train_x :\n",
        "  plot_test_y_2.append(theta[1] * j + theta[0])\n",
        "\n",
        "plt.figure(figsize=(12,8))\n",
        "\n",
        "plt.scatter(plot_validate_x, plot_validate_y,color = 'orange', label='Validate Set')\n",
        "plt.scatter(plot_validate_x, plot_test_y, color='b', label='Validate Predicted')\n",
        "plt.scatter(plot_train_x, plot_train_y, color='y', label='Train Set')\n",
        "plt.scatter(plot_train_x, plot_test_y_2, color='g', label='Train Predicted')\n",
        "plt.plot(plot_train_x, plot_test_y_2, '--r', label=f'Model')\n",
        "\n",
        "plt.title('Training & Testing Dataset vs Model')\n",
        "plt.xlabel('Carbohidratos')\n",
        "plt.ylabel('Calorías')\n",
        "\n",
        "plt.legend()\n",
        "plt.show()"
      ],
      "metadata": {
        "colab": {
          "base_uri": "https://localhost:8080/",
          "height": 513
        },
        "id": "wTzGrkORmaeX",
        "outputId": "df120ee9-835d-44ea-f50e-b47b5c4246e9"
      },
      "execution_count": 141,
      "outputs": [
        {
          "output_type": "display_data",
          "data": {
            "text/plain": [
              "<Figure size 864x576 with 1 Axes>"
            ],
            "image/png": "[encoded data removed]"
          },
          "metadata": {
            "needs_background": "light"
          }
        }
      ]
    }
  ]
}